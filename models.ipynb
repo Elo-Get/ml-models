{
 "cells": [
  {
   "cell_type": "code",
   "execution_count": 18,
   "metadata": {},
   "outputs": [],
   "source": [
    "import pandas as pd\n",
    "import numpy as np\n",
    "import matplotlib.pyplot as plt\n",
    "import seaborn as sns\n",
    "from preprocessing import PreProcessing\n",
    "import mlflow\n",
    "from sklearn.ensemble import RandomForestClassifier\n",
    "from sklearn.model_selection import train_test_split\n",
    "from sklearn.feature_extraction.text import TfidfVectorizer\n",
    "from sklearn.neighbors import KNeighborsClassifier\n",
    "from sklearn.neural_network import MLPClassifier\n",
    "from mlflow.models import infer_signature\n",
    "from sklearn.svm import SVC\n",
    "from sklearn.metrics import classification_report, accuracy_score, confusion_matrix\n",
    "from skl2onnx import convert_sklearn\n",
    "from skl2onnx.common.data_types import FloatTensorType\n",
    "import mlflow.sklearn\n",
    "import joblib\n",
    "import onnxruntime as ort\n",
    "import time"
   ]
  },
  {
   "cell_type": "code",
   "execution_count": 3,
   "metadata": {},
   "outputs": [
    {
     "name": "stdout",
     "output_type": "stream",
     "text": [
      "New vectorizer created.\n"
     ]
    }
   ],
   "source": [
    "mlflow.set_experiment(\"svm_spoiler_detection\")\n",
    "preprocessing = PreProcessing()"
   ]
  },
  {
   "cell_type": "code",
   "execution_count": 4,
   "metadata": {},
   "outputs": [
    {
     "name": "stdout",
     "output_type": "stream",
     "text": [
      "Vectorizer trained and saved.\n"
     ]
    }
   ],
   "source": [
    "X_train, y_train, X_test, y_test = preprocessing.get_dataset()"
   ]
  },
  {
   "cell_type": "code",
   "execution_count": 19,
   "metadata": {},
   "outputs": [],
   "source": [
    "def train_and_evaluate_model(model_name, model, X_train, y_train, X_test, y_test):\n",
    "    with mlflow.start_run():\n",
    "        # Entraînement du modèle\n",
    "        model.fit(X_train, y_train)\n",
    "        y_pred = model.predict(X_test)\n",
    "        \n",
    "        # Évaluation du modèle\n",
    "        accuracy = accuracy_score(y_test, y_pred)\n",
    "        print(f\"Accuracy ({model_name}):\", accuracy)\n",
    "        print(\"\\nClassification Report:\\n\", classification_report(y_test, y_pred))\n",
    "\n",
    "        # Déterminer l'input_example pour MLflow\n",
    "        input_example = X_train[:5]  # Prendre 5 exemples du dataset d'entraînement\n",
    "        signature = infer_signature(X_train, model.predict(X_train))\n",
    "\n",
    "        # Log metrics & modèle avec signature et input_example\n",
    "        mlflow.log_metric(\"accuracy\", accuracy)\n",
    "        mlflow.sklearn.log_model(model, f\"{model_name}_model\",\n",
    "                                 signature=signature, input_example=input_example)\n",
    "\n",
    "        # Sauvegarde en format Pickle\n",
    "        joblib.dump(model, f\"models/{model_name}_model.pkl\")\n",
    "\n",
    "        # Sauvegarde ONNX (sauf pour KNeighborsClassifier)\n",
    "        if not isinstance(model, KNeighborsClassifier):\n",
    "            onnx_model = convert_sklearn(model, initial_types=[(\"float_input\", FloatTensorType([None, X_train.shape[1]]))])\n",
    "            with open(f\"models/{model_name}_model.onnx\", \"wb\") as f:\n",
    "                f.write(onnx_model.SerializeToString())\n",
    "                mlflow.log_artifact(f\"models/{model_name}_model.onnx\")\n",
    "\n",
    "        # Matrice de confusion\n",
    "        conf_matrix = confusion_matrix(y_test, y_pred)\n",
    "        \n",
    "        return y_pred, accuracy, conf_matrix"
   ]
  },
  {
   "cell_type": "code",
   "execution_count": null,
   "metadata": {},
   "outputs": [
    {
     "name": "stdout",
     "output_type": "stream",
     "text": [
      "\n",
      "Entraînement du modèle : knn\n",
      "----------------------------------------\n",
      "Accuracy (knn): 0.6897212543554007\n",
      "\n",
      "Classification Report:\n",
      "               precision    recall  f1-score   support\n",
      "\n",
      "           0       0.76      0.85      0.80      4231\n",
      "           1       0.36      0.23      0.28      1509\n",
      "\n",
      "    accuracy                           0.69      5740\n",
      "   macro avg       0.56      0.54      0.54      5740\n",
      "weighted avg       0.65      0.69      0.66      5740\n",
      "\n"
     ]
    },
    {
     "data": {
      "image/png": "[encoded data removed]",
      "text/plain": [
       "<Figure size 500x400 with 2 Axes>"
      ]
     },
     "metadata": {},
     "output_type": "display_data"
    },
    {
     "name": "stdout",
     "output_type": "stream",
     "text": [
      "\n",
      "Entraînement du modèle : svm\n",
      "----------------------------------------\n",
      "Accuracy (svm): 0.7649825783972125\n",
      "\n",
      "Classification Report:\n",
      "               precision    recall  f1-score   support\n",
      "\n",
      "           0       0.77      0.98      0.86      4231\n",
      "           1       0.72      0.17      0.28      1509\n",
      "\n",
      "    accuracy                           0.76      5740\n",
      "   macro avg       0.75      0.57      0.57      5740\n",
      "weighted avg       0.76      0.76      0.71      5740\n",
      "\n"
     ]
    }
   ],
   "source": [
    "# Liste des modèles\n",
    "models = {\n",
    "    \"knn\": KNeighborsClassifier(n_neighbors=5),\n",
    "    \"svm\": SVC(kernel='rbf'),\n",
    "    \"random_forest\": RandomForestClassifier(n_estimators=100),\n",
    "    \"mlp\": MLPClassifier(hidden_layer_sizes=(10), max_iter=300)\n",
    "}\n",
    "\n",
    "# Stocker les temps d'entraînement et les performances\n",
    "training_times = {}\n",
    "accuracies = {}\n",
    "\n",
    "# Boucle d'entraînement et d'évaluation\n",
    "for model_name, model in models.items():\n",
    "    print(f\"\\nEntraînement du modèle : {model_name}\\n\" + \"-\" * 40)\n",
    "    start_time = time.time()\n",
    "    \n",
    "    # Entraînement et évaluation\n",
    "    y_pred, accuracy, conf_matrix = train_and_evaluate_model(model_name, model, X_train, y_train, X_test, y_test)\n",
    "    \n",
    "    # Stocker le temps et l'accuracy\n",
    "    training_times[model_name] = time.time() - start_time\n",
    "    accuracies[model_name] = accuracy\n",
    "    \n",
    "    # Affichage de la matrice de confusion\n",
    "    plt.figure(figsize=(5, 4))\n",
    "    sns.heatmap(conf_matrix, annot=True, fmt='d', cmap='Blues')\n",
    "    plt.xlabel('Predicted')\n",
    "    plt.ylabel('Actual')\n",
    "    plt.title(f'Matrice de Confusion - {model_name.upper()}')\n",
    "    plt.show()\n",
    "    \n",
    "# Comparaison des temps d'entraînement\n",
    "plt.figure(figsize=(8, 5))\n",
    "plt.bar(training_times.keys(), training_times.values(), color=['blue', 'green', 'red', 'purple'])\n",
    "plt.xlabel(\"Modèles\")\n",
    "plt.ylabel(\"Temps d'entraînement (s)\")\n",
    "plt.title(\"Comparaison du temps d'entraînement des modèles\")\n",
    "plt.show()\n",
    "\n",
    "# Comparaison des accuracy\n",
    "plt.figure(figsize=(8, 5))\n",
    "plt.bar(accuracies.keys(), accuracies.values(), color=['blue', 'green', 'red', 'purple'])\n",
    "plt.xlabel(\"Modèles\")\n",
    "plt.ylabel(\"Accuracy\")\n",
    "plt.title(\"Comparaison de l'accuracy des modèles\")\n",
    "plt.show()\n",
    "\n",
    "# Résumé des performances\n",
    "for model_name in models.keys():\n",
    "    print(f\"\\nModèle : {model_name.upper()}\")\n",
    "    print(f\"Temps d'entraînement : {training_times[model_name]:.2f} sec\")\n",
    "    print(f\"Accuracy : {accuracies[model_name]:.4f}\")"
   ]
  },
  {
   "cell_type": "code",
   "execution_count": null,
   "metadata": {},
   "outputs": [],
   "source": [
    "def load_and_predict_onnx(model_path, X_test):\n",
    "    \n",
    "    # Charger le modèle ONNX et le vectorizer\n",
    "    session = ort.InferenceSession(model_path)\n",
    "    \n",
    "    # Faire une prédiction\n",
    "    inputs = {session.get_inputs()[0].name: X_test.toarray()}\n",
    "    preds = session.run(None, inputs)[0]\n",
    "    return preds\n",
    "\n",
    "# Exemple d'utilisation\n",
    "text = input(\"Entrez un texte : \")\n",
    "test_texts = preprocessing.prepare_text(text)\n",
    "preds = load_and_predict_onnx(\"models/svm_model.onnx\", test_texts)\n",
    "print(\"Predictions ONNX:\", preds)"
   ]
  },
  {
   "cell_type": "markdown",
   "metadata": {},
   "source": [
    "---"
   ]
  },
  {
   "cell_type": "markdown",
   "metadata": {},
   "source": [
    "### Test paramétrage du MLP"
   ]
  },
  {
   "cell_type": "code",
   "execution_count": null,
   "metadata": {},
   "outputs": [],
   "source": [
    "model = MLPClassifier(hidden_layer_sizes=(10), max_iter=300)\n",
    "print(f\"\\nEntraînement du modèle : {model_name}\\n\" + \"-\" * 40)\n",
    "start_time = time.time()\n",
    "\n",
    "# Entraînement et évaluation\n",
    "y_pred, accuracy, conf_matrix = train_and_evaluate_model(model_name, model, X_train, y_train, X_test, y_test)\n",
    "\n",
    "# Stocker le temps et l'accuracy\n",
    "training_times = time.time() - start_time\n",
    "\n",
    "print(f\"\\nModèle : {model_name.upper()}\")\n",
    "print(f\"Temps d'entraînement : {training_times:.2f} sec\")\n",
    "print(f\"Accuracy : {accuracy:.4f}\")"
   ]
  }
 ],
 "metadata": {
  "kernelspec": {
   "display_name": ".venv",
   "language": "python",
   "name": "python3"
  },
  "language_info": {
   "codemirror_mode": {
    "name": "ipython",
    "version": 3
   },
   "file_extension": ".py",
   "mimetype": "text/x-python",
   "name": "python",
   "nbconvert_exporter": "python",
   "pygments_lexer": "ipython3",
   "version": "3.13.2"
  }
 },
 "nbformat": 4,
 "nbformat_minor": 2
}
